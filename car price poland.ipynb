{
 "cells": [
  {
   "cell_type": "code",
   "execution_count": 1,
   "id": "42dd5dbe",
   "metadata": {
    "_cell_guid": "b1076dfc-b9ad-4769-8c92-a6c4dae69d19",
    "_uuid": "8f2839f25d086af736a60e9eeb907d3b93b6e0e5",
    "execution": {
     "iopub.execute_input": "2023-12-17T19:19:52.451568Z",
     "iopub.status.busy": "2023-12-17T19:19:52.450542Z",
     "iopub.status.idle": "2023-12-17T19:19:54.105962Z",
     "shell.execute_reply": "2023-12-17T19:19:54.104847Z"
    },
    "papermill": {
     "duration": 1.663924,
     "end_time": "2023-12-17T19:19:54.108703",
     "exception": false,
     "start_time": "2023-12-17T19:19:52.444779",
     "status": "completed"
    },
    "tags": []
   },
   "outputs": [],
   "source": [
    "import numpy as np\n",
    "import pandas as pd\n",
    "import matplotlib.pyplot as plt\n",
    "import seaborn as sns"
   ]
  },
  {
   "cell_type": "code",
   "execution_count": 2,
   "id": "6eac377c",
   "metadata": {
    "execution": {
     "iopub.execute_input": "2023-12-17T19:19:54.114833Z",
     "iopub.status.busy": "2023-12-17T19:19:54.114257Z",
     "iopub.status.idle": "2023-12-17T19:19:54.549076Z",
     "shell.execute_reply": "2023-12-17T19:19:54.548267Z"
    },
    "papermill": {
     "duration": 0.440653,
     "end_time": "2023-12-17T19:19:54.551804",
     "exception": false,
     "start_time": "2023-12-17T19:19:54.111151",
     "status": "completed"
    },
    "tags": []
   },
   "outputs": [
    {
     "data": {
      "text/html": [
       "<div>\n",
       "<style scoped>\n",
       "    .dataframe tbody tr th:only-of-type {\n",
       "        vertical-align: middle;\n",
       "    }\n",
       "\n",
       "    .dataframe tbody tr th {\n",
       "        vertical-align: top;\n",
       "    }\n",
       "\n",
       "    .dataframe thead th {\n",
       "        text-align: right;\n",
       "    }\n",
       "</style>\n",
       "<table border=\"1\" class=\"dataframe\">\n",
       "  <thead>\n",
       "    <tr style=\"text-align: right;\">\n",
       "      <th></th>\n",
       "      <th>Unnamed: 0</th>\n",
       "      <th>mark</th>\n",
       "      <th>model</th>\n",
       "      <th>generation_name</th>\n",
       "      <th>year</th>\n",
       "      <th>mileage</th>\n",
       "      <th>vol_engine</th>\n",
       "      <th>fuel</th>\n",
       "      <th>city</th>\n",
       "      <th>province</th>\n",
       "      <th>price</th>\n",
       "    </tr>\n",
       "  </thead>\n",
       "  <tbody>\n",
       "    <tr>\n",
       "      <th>0</th>\n",
       "      <td>0</td>\n",
       "      <td>opel</td>\n",
       "      <td>combo</td>\n",
       "      <td>gen-d-2011</td>\n",
       "      <td>2015</td>\n",
       "      <td>139568</td>\n",
       "      <td>1248</td>\n",
       "      <td>Diesel</td>\n",
       "      <td>Janki</td>\n",
       "      <td>Mazowieckie</td>\n",
       "      <td>35900</td>\n",
       "    </tr>\n",
       "    <tr>\n",
       "      <th>1</th>\n",
       "      <td>1</td>\n",
       "      <td>opel</td>\n",
       "      <td>combo</td>\n",
       "      <td>gen-d-2011</td>\n",
       "      <td>2018</td>\n",
       "      <td>31991</td>\n",
       "      <td>1499</td>\n",
       "      <td>Diesel</td>\n",
       "      <td>Katowice</td>\n",
       "      <td>Śląskie</td>\n",
       "      <td>78501</td>\n",
       "    </tr>\n",
       "    <tr>\n",
       "      <th>2</th>\n",
       "      <td>2</td>\n",
       "      <td>opel</td>\n",
       "      <td>combo</td>\n",
       "      <td>gen-d-2011</td>\n",
       "      <td>2015</td>\n",
       "      <td>278437</td>\n",
       "      <td>1598</td>\n",
       "      <td>Diesel</td>\n",
       "      <td>Brzeg</td>\n",
       "      <td>Opolskie</td>\n",
       "      <td>27000</td>\n",
       "    </tr>\n",
       "    <tr>\n",
       "      <th>3</th>\n",
       "      <td>3</td>\n",
       "      <td>opel</td>\n",
       "      <td>combo</td>\n",
       "      <td>gen-d-2011</td>\n",
       "      <td>2016</td>\n",
       "      <td>47600</td>\n",
       "      <td>1248</td>\n",
       "      <td>Diesel</td>\n",
       "      <td>Korfantów</td>\n",
       "      <td>Opolskie</td>\n",
       "      <td>30800</td>\n",
       "    </tr>\n",
       "    <tr>\n",
       "      <th>4</th>\n",
       "      <td>4</td>\n",
       "      <td>opel</td>\n",
       "      <td>combo</td>\n",
       "      <td>gen-d-2011</td>\n",
       "      <td>2014</td>\n",
       "      <td>103000</td>\n",
       "      <td>1400</td>\n",
       "      <td>CNG</td>\n",
       "      <td>Tarnowskie Góry</td>\n",
       "      <td>Śląskie</td>\n",
       "      <td>35900</td>\n",
       "    </tr>\n",
       "  </tbody>\n",
       "</table>\n",
       "</div>"
      ],
      "text/plain": [
       "   Unnamed: 0  mark  model generation_name  year  mileage  vol_engine    fuel  \\\n",
       "0           0  opel  combo      gen-d-2011  2015   139568        1248  Diesel   \n",
       "1           1  opel  combo      gen-d-2011  2018    31991        1499  Diesel   \n",
       "2           2  opel  combo      gen-d-2011  2015   278437        1598  Diesel   \n",
       "3           3  opel  combo      gen-d-2011  2016    47600        1248  Diesel   \n",
       "4           4  opel  combo      gen-d-2011  2014   103000        1400     CNG   \n",
       "\n",
       "              city     province  price  \n",
       "0            Janki  Mazowieckie  35900  \n",
       "1         Katowice      Śląskie  78501  \n",
       "2            Brzeg     Opolskie  27000  \n",
       "3        Korfantów     Opolskie  30800  \n",
       "4  Tarnowskie Góry      Śląskie  35900  "
      ]
     },
     "execution_count": 2,
     "metadata": {},
     "output_type": "execute_result"
    }
   ],
   "source": [
    "df = pd.read_csv('/kaggle/input/car-prices-poland/Car_Prices_Poland_Kaggle.csv')\n",
    "df.head()"
   ]
  },
  {
   "cell_type": "code",
   "execution_count": 3,
   "id": "83d14fbb",
   "metadata": {
    "execution": {
     "iopub.execute_input": "2023-12-17T19:19:54.558809Z",
     "iopub.status.busy": "2023-12-17T19:19:54.558433Z",
     "iopub.status.idle": "2023-12-17T19:19:54.637654Z",
     "shell.execute_reply": "2023-12-17T19:19:54.636774Z"
    },
    "papermill": {
     "duration": 0.085382,
     "end_time": "2023-12-17T19:19:54.639999",
     "exception": false,
     "start_time": "2023-12-17T19:19:54.554617",
     "status": "completed"
    },
    "tags": []
   },
   "outputs": [
    {
     "data": {
      "text/plain": [
       "Unnamed: 0             0\n",
       "mark                   0\n",
       "model                  0\n",
       "generation_name    30085\n",
       "year                   0\n",
       "mileage                0\n",
       "vol_engine             0\n",
       "fuel                   0\n",
       "city                   0\n",
       "province               0\n",
       "price                  0\n",
       "dtype: int64"
      ]
     },
     "execution_count": 3,
     "metadata": {},
     "output_type": "execute_result"
    }
   ],
   "source": [
    "# 1. Dealing with Missing Values\n",
    "df.isnull().sum()  # Check the number of missing values "
   ]
  }
 ],
 "metadata": {
  "kaggle": {
   "accelerator": "none",
   "dataSources": [
    {
     "datasetId": 1878058,
     "sourceId": 3068013,
     "sourceType": "datasetVersion"
    }
   ],
   "dockerImageVersionId": 30626,
   "isGpuEnabled": false,
   "isInternetEnabled": false,
   "language": "python",
   "sourceType": "notebook"
  },
  "kernelspec": {
   "display_name": "Python 3",
   "language": "python",
   "name": "python3"
  },
  "language_info": {
   "codemirror_mode": {
    "name": "ipython",
    "version": 3
   },
   "file_extension": ".py",
   "mimetype": "text/x-python",
   "name": "python",
   "nbconvert_exporter": "python",
   "pygments_lexer": "ipython3",
   "version": "3.10.12"
  },
  "papermill": {
   "default_parameters": {},
   "duration": 6.267141,
   "end_time": "2023-12-17T19:19:55.262821",
   "environment_variables": {},
   "exception": null,
   "input_path": "__notebook__.ipynb",
   "output_path": "__notebook__.ipynb",
   "parameters": {},
   "start_time": "2023-12-17T19:19:48.995680",
   "version": "2.4.0"
  }
 },
 "nbformat": 4,
 "nbformat_minor": 5
}
