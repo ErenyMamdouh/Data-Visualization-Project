{
 "cells": [
  {
   "cell_type": "code",
   "execution_count": 1,
   "id": "61dd7959",
   "metadata": {
    "_cell_guid": "b1076dfc-b9ad-4769-8c92-a6c4dae69d19",
    "_uuid": "8f2839f25d086af736a60e9eeb907d3b93b6e0e5",
    "execution": {
     "iopub.execute_input": "2023-12-17T19:16:05.998069Z",
     "iopub.status.busy": "2023-12-17T19:16:05.997232Z",
     "iopub.status.idle": "2023-12-17T19:16:07.769113Z",
     "shell.execute_reply": "2023-12-17T19:16:07.768005Z"
    },
    "papermill": {
     "duration": 1.778722,
     "end_time": "2023-12-17T19:16:07.771884",
     "exception": false,
     "start_time": "2023-12-17T19:16:05.993162",
     "status": "completed"
    },
    "tags": []
   },
   "outputs": [],
   "source": [
    "import numpy as np\n",
    "import pandas as pd\n",
    "import matplotlib.pyplot as plt\n",
    "import seaborn as sns"
   ]
  },
  {
   "cell_type": "code",
   "execution_count": null,
   "id": "62bb8733",
   "metadata": {
    "papermill": {
     "duration": 0.001358,
     "end_time": "2023-12-17T19:16:07.775110",
     "exception": false,
     "start_time": "2023-12-17T19:16:07.773752",
     "status": "completed"
    },
    "tags": []
   },
   "outputs": [],
   "source": []
  }
 ],
 "metadata": {
  "kaggle": {
   "accelerator": "none",
   "dataSources": [
    {
     "datasetId": 1878058,
     "sourceId": 3068013,
     "sourceType": "datasetVersion"
    }
   ],
   "dockerImageVersionId": 30626,
   "isGpuEnabled": false,
   "isInternetEnabled": false,
   "language": "python",
   "sourceType": "notebook"
  },
  "kernelspec": {
   "display_name": "Python 3",
   "language": "python",
   "name": "python3"
  },
  "language_info": {
   "codemirror_mode": {
    "name": "ipython",
    "version": 3
   },
   "file_extension": ".py",
   "mimetype": "text/x-python",
   "name": "python",
   "nbconvert_exporter": "python",
   "pygments_lexer": "ipython3",
   "version": "3.10.12"
  },
  "papermill": {
   "default_parameters": {},
   "duration": 5.641948,
   "end_time": "2023-12-17T19:16:08.400061",
   "environment_variables": {},
   "exception": null,
   "input_path": "__notebook__.ipynb",
   "output_path": "__notebook__.ipynb",
   "parameters": {},
   "start_time": "2023-12-17T19:16:02.758113",
   "version": "2.4.0"
  }
 },
 "nbformat": 4,
 "nbformat_minor": 5
}
