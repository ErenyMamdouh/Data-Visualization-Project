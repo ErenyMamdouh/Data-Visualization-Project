{
 "cells": [
  {
   "cell_type": "code",
   "execution_count": 1,
   "id": "afdddc78",
   "metadata": {
    "_cell_guid": "b1076dfc-b9ad-4769-8c92-a6c4dae69d19",
    "_uuid": "8f2839f25d086af736a60e9eeb907d3b93b6e0e5",
    "execution": {
     "iopub.execute_input": "2023-12-17T19:24:03.349201Z",
     "iopub.status.busy": "2023-12-17T19:24:03.348792Z",
     "iopub.status.idle": "2023-12-17T19:24:05.333657Z",
     "shell.execute_reply": "2023-12-17T19:24:05.332522Z"
    },
    "papermill": {
     "duration": 1.992944,
     "end_time": "2023-12-17T19:24:05.336419",
     "exception": false,
     "start_time": "2023-12-17T19:24:03.343475",
     "status": "completed"
    },
    "tags": []
   },
   "outputs": [],
   "source": [
    "import numpy as np\n",
    "import pandas as pd\n",
    "import matplotlib.pyplot as plt\n",
    "import seaborn as sns"
   ]
  },
  {
   "cell_type": "code",
   "execution_count": 2,
   "id": "bc615271",
   "metadata": {
    "execution": {
     "iopub.execute_input": "2023-12-17T19:24:05.344614Z",
     "iopub.status.busy": "2023-12-17T19:24:05.344063Z",
     "iopub.status.idle": "2023-12-17T19:24:05.804585Z",
     "shell.execute_reply": "2023-12-17T19:24:05.803085Z"
    },
    "papermill": {
     "duration": 0.46744,
     "end_time": "2023-12-17T19:24:05.807148",
     "exception": false,
     "start_time": "2023-12-17T19:24:05.339708",
     "status": "completed"
    },
    "tags": []
   },
   "outputs": [
    {
     "data": {
      "text/html": [
       "<div>\n",
       "<style scoped>\n",
       "    .dataframe tbody tr th:only-of-type {\n",
       "        vertical-align: middle;\n",
       "    }\n",
       "\n",
       "    .dataframe tbody tr th {\n",
       "        vertical-align: top;\n",
       "    }\n",
       "\n",
       "    .dataframe thead th {\n",
       "        text-align: right;\n",
       "    }\n",
       "</style>\n",
       "<table border=\"1\" class=\"dataframe\">\n",
       "  <thead>\n",
       "    <tr style=\"text-align: right;\">\n",
       "      <th></th>\n",
       "      <th>Unnamed: 0</th>\n",
       "      <th>mark</th>\n",
       "      <th>model</th>\n",
       "      <th>generation_name</th>\n",
       "      <th>year</th>\n",
       "      <th>mileage</th>\n",
       "      <th>vol_engine</th>\n",
       "      <th>fuel</th>\n",
       "      <th>city</th>\n",
       "      <th>province</th>\n",
       "      <th>price</th>\n",
       "    </tr>\n",
       "  </thead>\n",
       "  <tbody>\n",
       "    <tr>\n",
       "      <th>0</th>\n",
       "      <td>0</td>\n",
       "      <td>opel</td>\n",
       "      <td>combo</td>\n",
       "      <td>gen-d-2011</td>\n",
       "      <td>2015</td>\n",
       "      <td>139568</td>\n",
       "      <td>1248</td>\n",
       "      <td>Diesel</td>\n",
       "      <td>Janki</td>\n",
       "      <td>Mazowieckie</td>\n",
       "      <td>35900</td>\n",
       "    </tr>\n",
       "    <tr>\n",
       "      <th>1</th>\n",
       "      <td>1</td>\n",
       "      <td>opel</td>\n",
       "      <td>combo</td>\n",
       "      <td>gen-d-2011</td>\n",
       "      <td>2018</td>\n",
       "      <td>31991</td>\n",
       "      <td>1499</td>\n",
       "      <td>Diesel</td>\n",
       "      <td>Katowice</td>\n",
       "      <td>Śląskie</td>\n",
       "      <td>78501</td>\n",
       "    </tr>\n",
       "    <tr>\n",
       "      <th>2</th>\n",
       "      <td>2</td>\n",
       "      <td>opel</td>\n",
       "      <td>combo</td>\n",
       "      <td>gen-d-2011</td>\n",
       "      <td>2015</td>\n",
       "      <td>278437</td>\n",
       "      <td>1598</td>\n",
       "      <td>Diesel</td>\n",
       "      <td>Brzeg</td>\n",
       "      <td>Opolskie</td>\n",
       "      <td>27000</td>\n",
       "    </tr>\n",
       "    <tr>\n",
       "      <th>3</th>\n",
       "      <td>3</td>\n",
       "      <td>opel</td>\n",
       "      <td>combo</td>\n",
       "      <td>gen-d-2011</td>\n",
       "      <td>2016</td>\n",
       "      <td>47600</td>\n",
       "      <td>1248</td>\n",
       "      <td>Diesel</td>\n",
       "      <td>Korfantów</td>\n",
       "      <td>Opolskie</td>\n",
       "      <td>30800</td>\n",
       "    </tr>\n",
       "    <tr>\n",
       "      <th>4</th>\n",
       "      <td>4</td>\n",
       "      <td>opel</td>\n",
       "      <td>combo</td>\n",
       "      <td>gen-d-2011</td>\n",
       "      <td>2014</td>\n",
       "      <td>103000</td>\n",
       "      <td>1400</td>\n",
       "      <td>CNG</td>\n",
       "      <td>Tarnowskie Góry</td>\n",
       "      <td>Śląskie</td>\n",
       "      <td>35900</td>\n",
       "    </tr>\n",
       "  </tbody>\n",
       "</table>\n",
       "</div>"
      ],
      "text/plain": [
       "   Unnamed: 0  mark  model generation_name  year  mileage  vol_engine    fuel  \\\n",
       "0           0  opel  combo      gen-d-2011  2015   139568        1248  Diesel   \n",
       "1           1  opel  combo      gen-d-2011  2018    31991        1499  Diesel   \n",
       "2           2  opel  combo      gen-d-2011  2015   278437        1598  Diesel   \n",
       "3           3  opel  combo      gen-d-2011  2016    47600        1248  Diesel   \n",
       "4           4  opel  combo      gen-d-2011  2014   103000        1400     CNG   \n",
       "\n",
       "              city     province  price  \n",
       "0            Janki  Mazowieckie  35900  \n",
       "1         Katowice      Śląskie  78501  \n",
       "2            Brzeg     Opolskie  27000  \n",
       "3        Korfantów     Opolskie  30800  \n",
       "4  Tarnowskie Góry      Śląskie  35900  "
      ]
     },
     "execution_count": 2,
     "metadata": {},
     "output_type": "execute_result"
    }
   ],
   "source": [
    "df = pd.read_csv('/kaggle/input/car-prices-poland/Car_Prices_Poland_Kaggle.csv')\n",
    "df.head()"
   ]
  },
  {
   "cell_type": "code",
   "execution_count": 3,
   "id": "b8ed0693",
   "metadata": {
    "execution": {
     "iopub.execute_input": "2023-12-17T19:24:05.815747Z",
     "iopub.status.busy": "2023-12-17T19:24:05.815342Z",
     "iopub.status.idle": "2023-12-17T19:24:05.897134Z",
     "shell.execute_reply": "2023-12-17T19:24:05.895905Z"
    },
    "papermill": {
     "duration": 0.088826,
     "end_time": "2023-12-17T19:24:05.899536",
     "exception": false,
     "start_time": "2023-12-17T19:24:05.810710",
     "status": "completed"
    },
    "tags": []
   },
   "outputs": [
    {
     "data": {
      "text/plain": [
       "Unnamed: 0             0\n",
       "mark                   0\n",
       "model                  0\n",
       "generation_name    30085\n",
       "year                   0\n",
       "mileage                0\n",
       "vol_engine             0\n",
       "fuel                   0\n",
       "city                   0\n",
       "province               0\n",
       "price                  0\n",
       "dtype: int64"
      ]
     },
     "execution_count": 3,
     "metadata": {},
     "output_type": "execute_result"
    }
   ],
   "source": [
    "# 1. Dealing with Missing Values\n",
    "df.isnull().sum()  # Check the number of missing values "
   ]
  },
  {
   "cell_type": "code",
   "execution_count": 4,
   "id": "0ee282f8",
   "metadata": {
    "execution": {
     "iopub.execute_input": "2023-12-17T19:24:05.908840Z",
     "iopub.status.busy": "2023-12-17T19:24:05.908413Z",
     "iopub.status.idle": "2023-12-17T19:24:05.912869Z",
     "shell.execute_reply": "2023-12-17T19:24:05.911790Z"
    },
    "papermill": {
     "duration": 0.011897,
     "end_time": "2023-12-17T19:24:05.915185",
     "exception": false,
     "start_time": "2023-12-17T19:24:05.903288",
     "status": "completed"
    },
    "tags": []
   },
   "outputs": [],
   "source": [
    "# 2. Figuring out why the data is missing\n",
    "#Because all car dont require has generation_name"
   ]
  },
  {
   "cell_type": "code",
   "execution_count": 5,
   "id": "e8c0249f",
   "metadata": {
    "execution": {
     "iopub.execute_input": "2023-12-17T19:24:05.924559Z",
     "iopub.status.busy": "2023-12-17T19:24:05.924111Z",
     "iopub.status.idle": "2023-12-17T19:24:05.948356Z",
     "shell.execute_reply": "2023-12-17T19:24:05.947063Z"
    },
    "papermill": {
     "duration": 0.032062,
     "end_time": "2023-12-17T19:24:05.951021",
     "exception": false,
     "start_time": "2023-12-17T19:24:05.918959",
     "status": "completed"
    },
    "tags": []
   },
   "outputs": [],
   "source": [
    "# 3. Eliminating extra variables\n",
    "df = df.drop(['generation_name'], axis=1)"
   ]
  },
  {
   "cell_type": "code",
   "execution_count": 6,
   "id": "87947fd2",
   "metadata": {
    "execution": {
     "iopub.execute_input": "2023-12-17T19:24:05.960315Z",
     "iopub.status.busy": "2023-12-17T19:24:05.959802Z",
     "iopub.status.idle": "2023-12-17T19:24:06.402604Z",
     "shell.execute_reply": "2023-12-17T19:24:06.401777Z"
    },
    "papermill": {
     "duration": 0.449973,
     "end_time": "2023-12-17T19:24:06.404811",
     "exception": false,
     "start_time": "2023-12-17T19:24:05.954838",
     "status": "completed"
    },
    "tags": []
   },
   "outputs": [
    {
     "data": {
      "image/png": "[encoded data removed]",
      "text/plain": [
       "<Figure size 1000x600 with 1 Axes>"
      ]
     },
     "metadata": {},
     "output_type": "display_data"
    }
   ],
   "source": [
    "#4. Detecting and removing outliers using box plot\n",
    "plt.figure(figsize=(10, 6))\n",
    "sns.boxplot(data=df[['mileage', 'vol_engine', 'price']])\n",
    "plt.show()"
   ]
  },
  {
   "cell_type": "code",
   "execution_count": 7,
   "id": "d5f7f22e",
   "metadata": {
    "execution": {
     "iopub.execute_input": "2023-12-17T19:24:06.415487Z",
     "iopub.status.busy": "2023-12-17T19:24:06.414577Z",
     "iopub.status.idle": "2023-12-17T19:24:06.445828Z",
     "shell.execute_reply": "2023-12-17T19:24:06.444672Z"
    },
    "papermill": {
     "duration": 0.039619,
     "end_time": "2023-12-17T19:24:06.448704",
     "exception": false,
     "start_time": "2023-12-17T19:24:06.409085",
     "status": "completed"
    },
    "tags": []
   },
   "outputs": [],
   "source": [
    "# Remove outliers using z-score\n",
    "from scipy import stats\n",
    "df = df[(np.abs(stats.zscore(df[['mileage', 'vol_engine', 'price']])) < 3).all(axis=1)]"
   ]
  }
 ],
 "metadata": {
  "kaggle": {
   "accelerator": "none",
   "dataSources": [
    {
     "datasetId": 1878058,
     "sourceId": 3068013,
     "sourceType": "datasetVersion"
    }
   ],
   "dockerImageVersionId": 30626,
   "isGpuEnabled": false,
   "isInternetEnabled": false,
   "language": "python",
   "sourceType": "notebook"
  },
  "kernelspec": {
   "display_name": "Python 3",
   "language": "python",
   "name": "python3"
  },
  "language_info": {
   "codemirror_mode": {
    "name": "ipython",
    "version": 3
   },
   "file_extension": ".py",
   "mimetype": "text/x-python",
   "name": "python",
   "nbconvert_exporter": "python",
   "pygments_lexer": "ipython3",
   "version": "3.10.12"
  },
  "papermill": {
   "default_parameters": {},
   "duration": 7.284884,
   "end_time": "2023-12-17T19:24:07.074026",
   "environment_variables": {},
   "exception": null,
   "input_path": "__notebook__.ipynb",
   "output_path": "__notebook__.ipynb",
   "parameters": {},
   "start_time": "2023-12-17T19:23:59.789142",
   "version": "2.4.0"
  }
 },
 "nbformat": 4,
 "nbformat_minor": 5
}
